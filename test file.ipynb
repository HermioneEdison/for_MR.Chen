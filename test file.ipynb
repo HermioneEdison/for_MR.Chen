{
 "cells": [
  {
   "cell_type": "markdown",
   "metadata": {},
   "source": [
    "### Reference for Homework"
   ]
  },
  {
   "cell_type": "markdown",
   "metadata": {},
   "source": [
    "Tips I would like to remind you before:\n",
    "\n",
    "Please exegesis carefully. It is of your own good when you need to debug or update your program, and keep you up with which step are you in the alogrithm.\n",
    "\n",
    "Design your program like blocks. Each block should have independent and unique function. In this way, you will have a clear map of your program.For your own good, if the result is not satisfied, you will find that you would have clues to optimize your program.\n",
    "\n",
    "If you have any question, please come to the writer of this program, CFA1901徐迪深. Otherwise, comments are welcomed."
   ]
  },
  {
   "cell_type": "markdown",
   "metadata": {},
   "source": [
    "#### Below is the reference using package for machine learning package *sklearn* "
   ]
  },
  {
   "cell_type": "code",
   "execution_count": 117,
   "metadata": {},
   "outputs": [],
   "source": [
    "import pandas as pd\n",
    "from sklearn.naive_bayes import GaussianNB #loading the packages"
   ]
  },
  {
   "cell_type": "code",
   "execution_count": 118,
   "metadata": {},
   "outputs": [
    {
     "data": {
      "text/html": [
       "<div>\n",
       "<style scoped>\n",
       "    .dataframe tbody tr th:only-of-type {\n",
       "        vertical-align: middle;\n",
       "    }\n",
       "\n",
       "    .dataframe tbody tr th {\n",
       "        vertical-align: top;\n",
       "    }\n",
       "\n",
       "    .dataframe thead th {\n",
       "        text-align: right;\n",
       "    }\n",
       "</style>\n",
       "<table border=\"1\" class=\"dataframe\">\n",
       "  <thead>\n",
       "    <tr style=\"text-align: right;\">\n",
       "      <th></th>\n",
       "      <th>日期</th>\n",
       "      <th>上证A股指数</th>\n",
       "      <th>北向资金净流入流出</th>\n",
       "      <th>白酒指数</th>\n",
       "    </tr>\n",
       "  </thead>\n",
       "  <tbody>\n",
       "    <tr>\n",
       "      <th>0</th>\n",
       "      <td>2021-09-13</td>\n",
       "      <td>3894.0349</td>\n",
       "      <td>-3824.36</td>\n",
       "      <td>69259.32</td>\n",
       "    </tr>\n",
       "    <tr>\n",
       "      <th>1</th>\n",
       "      <td>2021-09-12</td>\n",
       "      <td>NaN</td>\n",
       "      <td>NaN</td>\n",
       "      <td>NaN</td>\n",
       "    </tr>\n",
       "    <tr>\n",
       "      <th>2</th>\n",
       "      <td>2021-09-11</td>\n",
       "      <td>NaN</td>\n",
       "      <td>NaN</td>\n",
       "      <td>NaN</td>\n",
       "    </tr>\n",
       "    <tr>\n",
       "      <th>3</th>\n",
       "      <td>2021-09-10</td>\n",
       "      <td>3881.1866</td>\n",
       "      <td>3618.93</td>\n",
       "      <td>70047.41</td>\n",
       "    </tr>\n",
       "    <tr>\n",
       "      <th>4</th>\n",
       "      <td>2021-09-09</td>\n",
       "      <td>3870.7072</td>\n",
       "      <td>2615.15</td>\n",
       "      <td>68498.47</td>\n",
       "    </tr>\n",
       "  </tbody>\n",
       "</table>\n",
       "</div>"
      ],
      "text/plain": [
       "           日期     上证A股指数  北向资金净流入流出      白酒指数\n",
       "0  2021-09-13  3894.0349   -3824.36  69259.32\n",
       "1  2021-09-12        NaN        NaN       NaN\n",
       "2  2021-09-11        NaN        NaN       NaN\n",
       "3  2021-09-10  3881.1866    3618.93  70047.41\n",
       "4  2021-09-09  3870.7072    2615.15  68498.47"
      ]
     },
     "execution_count": 118,
     "metadata": {},
     "output_type": "execute_result"
    }
   ],
   "source": [
    "df = pd.read_excel('comprehensive_data.xlsx')#loading the data\n",
    "df.head()#show the fist five rows of the data"
   ]
  },
  {
   "cell_type": "code",
   "execution_count": 119,
   "metadata": {},
   "outputs": [
    {
     "data": {
      "text/html": [
       "<div>\n",
       "<style scoped>\n",
       "    .dataframe tbody tr th:only-of-type {\n",
       "        vertical-align: middle;\n",
       "    }\n",
       "\n",
       "    .dataframe tbody tr th {\n",
       "        vertical-align: top;\n",
       "    }\n",
       "\n",
       "    .dataframe thead th {\n",
       "        text-align: right;\n",
       "    }\n",
       "</style>\n",
       "<table border=\"1\" class=\"dataframe\">\n",
       "  <thead>\n",
       "    <tr style=\"text-align: right;\">\n",
       "      <th></th>\n",
       "      <th>日期</th>\n",
       "      <th>上证A股指数</th>\n",
       "      <th>北向资金净流入流出</th>\n",
       "      <th>白酒指数</th>\n",
       "    </tr>\n",
       "  </thead>\n",
       "  <tbody>\n",
       "    <tr>\n",
       "      <th>0</th>\n",
       "      <td>2021-09-13</td>\n",
       "      <td>3894.0349</td>\n",
       "      <td>-3824.36</td>\n",
       "      <td>69259.32</td>\n",
       "    </tr>\n",
       "    <tr>\n",
       "      <th>3</th>\n",
       "      <td>2021-09-10</td>\n",
       "      <td>3881.1866</td>\n",
       "      <td>3618.93</td>\n",
       "      <td>70047.41</td>\n",
       "    </tr>\n",
       "    <tr>\n",
       "      <th>4</th>\n",
       "      <td>2021-09-09</td>\n",
       "      <td>3870.7072</td>\n",
       "      <td>2615.15</td>\n",
       "      <td>68498.47</td>\n",
       "    </tr>\n",
       "    <tr>\n",
       "      <th>5</th>\n",
       "      <td>2021-09-08</td>\n",
       "      <td>3851.8985</td>\n",
       "      <td>-1617.95</td>\n",
       "      <td>68536.78</td>\n",
       "    </tr>\n",
       "    <tr>\n",
       "      <th>6</th>\n",
       "      <td>2021-09-07</td>\n",
       "      <td>3853.3862</td>\n",
       "      <td>6068.61</td>\n",
       "      <td>70039.15</td>\n",
       "    </tr>\n",
       "  </tbody>\n",
       "</table>\n",
       "</div>"
      ],
      "text/plain": [
       "           日期     上证A股指数  北向资金净流入流出      白酒指数\n",
       "0  2021-09-13  3894.0349   -3824.36  69259.32\n",
       "3  2021-09-10  3881.1866    3618.93  70047.41\n",
       "4  2021-09-09  3870.7072    2615.15  68498.47\n",
       "5  2021-09-08  3851.8985   -1617.95  68536.78\n",
       "6  2021-09-07  3853.3862    6068.61  70039.15"
      ]
     },
     "execution_count": 119,
     "metadata": {},
     "output_type": "execute_result"
    }
   ],
   "source": [
    "df = df.dropna(axis = 0)#drop the rows which do not have every value\n",
    "df.head()#let's check out the come-out"
   ]
  },
  {
   "cell_type": "code",
   "execution_count": 120,
   "metadata": {},
   "outputs": [
    {
     "data": {
      "text/html": [
       "<div>\n",
       "<style scoped>\n",
       "    .dataframe tbody tr th:only-of-type {\n",
       "        vertical-align: middle;\n",
       "    }\n",
       "\n",
       "    .dataframe tbody tr th {\n",
       "        vertical-align: top;\n",
       "    }\n",
       "\n",
       "    .dataframe thead th {\n",
       "        text-align: right;\n",
       "    }\n",
       "</style>\n",
       "<table border=\"1\" class=\"dataframe\">\n",
       "  <thead>\n",
       "    <tr style=\"text-align: right;\">\n",
       "      <th></th>\n",
       "      <th>日期</th>\n",
       "      <th>上证A股指数</th>\n",
       "      <th>北向资金净流入流出</th>\n",
       "      <th>白酒指数</th>\n",
       "      <th>上证A股收益率</th>\n",
       "    </tr>\n",
       "  </thead>\n",
       "  <tbody>\n",
       "    <tr>\n",
       "      <th>0</th>\n",
       "      <td>2021-09-13</td>\n",
       "      <td>3894.0349</td>\n",
       "      <td>-3824.36</td>\n",
       "      <td>69259.32</td>\n",
       "      <td>NaN</td>\n",
       "    </tr>\n",
       "    <tr>\n",
       "      <th>3</th>\n",
       "      <td>2021-09-10</td>\n",
       "      <td>3881.1866</td>\n",
       "      <td>3618.93</td>\n",
       "      <td>70047.41</td>\n",
       "      <td>0.003310</td>\n",
       "    </tr>\n",
       "    <tr>\n",
       "      <th>4</th>\n",
       "      <td>2021-09-09</td>\n",
       "      <td>3870.7072</td>\n",
       "      <td>2615.15</td>\n",
       "      <td>68498.47</td>\n",
       "      <td>0.002707</td>\n",
       "    </tr>\n",
       "    <tr>\n",
       "      <th>5</th>\n",
       "      <td>2021-09-08</td>\n",
       "      <td>3851.8985</td>\n",
       "      <td>-1617.95</td>\n",
       "      <td>68536.78</td>\n",
       "      <td>0.004883</td>\n",
       "    </tr>\n",
       "    <tr>\n",
       "      <th>6</th>\n",
       "      <td>2021-09-07</td>\n",
       "      <td>3853.3862</td>\n",
       "      <td>6068.61</td>\n",
       "      <td>70039.15</td>\n",
       "      <td>-0.000386</td>\n",
       "    </tr>\n",
       "  </tbody>\n",
       "</table>\n",
       "</div>"
      ],
      "text/plain": [
       "           日期     上证A股指数  北向资金净流入流出      白酒指数   上证A股收益率\n",
       "0  2021-09-13  3894.0349   -3824.36  69259.32       NaN\n",
       "3  2021-09-10  3881.1866    3618.93  70047.41  0.003310\n",
       "4  2021-09-09  3870.7072    2615.15  68498.47  0.002707\n",
       "5  2021-09-08  3851.8985   -1617.95  68536.78  0.004883\n",
       "6  2021-09-07  3853.3862    6068.61  70039.15 -0.000386"
      ]
     },
     "execution_count": 120,
     "metadata": {},
     "output_type": "execute_result"
    }
   ],
   "source": [
    "'''\n",
    "What we want is to use wine-index and Northbound capital to predict the daily change rate of SSH A share index.\n",
    "Therfore, computing and defining the change rate are essential.\n",
    "'''\n",
    "df['上证A股收益率'] = (df['上证A股指数'].shift() - df['上证A股指数']) / df['上证A股指数']#computing the change rate\n",
    "df.head()#let's see"
   ]
  },
  {
   "cell_type": "code",
   "execution_count": 121,
   "metadata": {},
   "outputs": [
    {
     "data": {
      "text/html": [
       "<div>\n",
       "<style scoped>\n",
       "    .dataframe tbody tr th:only-of-type {\n",
       "        vertical-align: middle;\n",
       "    }\n",
       "\n",
       "    .dataframe tbody tr th {\n",
       "        vertical-align: top;\n",
       "    }\n",
       "\n",
       "    .dataframe thead th {\n",
       "        text-align: right;\n",
       "    }\n",
       "</style>\n",
       "<table border=\"1\" class=\"dataframe\">\n",
       "  <thead>\n",
       "    <tr style=\"text-align: right;\">\n",
       "      <th></th>\n",
       "      <th>日期</th>\n",
       "      <th>上证A股指数</th>\n",
       "      <th>北向资金净流入流出</th>\n",
       "      <th>白酒指数</th>\n",
       "      <th>上证A股收益率</th>\n",
       "    </tr>\n",
       "  </thead>\n",
       "  <tbody>\n",
       "    <tr>\n",
       "      <th>3</th>\n",
       "      <td>2021-09-10</td>\n",
       "      <td>3881.1866</td>\n",
       "      <td>3618.93</td>\n",
       "      <td>70047.41</td>\n",
       "      <td>0.003310</td>\n",
       "    </tr>\n",
       "    <tr>\n",
       "      <th>4</th>\n",
       "      <td>2021-09-09</td>\n",
       "      <td>3870.7072</td>\n",
       "      <td>2615.15</td>\n",
       "      <td>68498.47</td>\n",
       "      <td>0.002707</td>\n",
       "    </tr>\n",
       "    <tr>\n",
       "      <th>5</th>\n",
       "      <td>2021-09-08</td>\n",
       "      <td>3851.8985</td>\n",
       "      <td>-1617.95</td>\n",
       "      <td>68536.78</td>\n",
       "      <td>0.004883</td>\n",
       "    </tr>\n",
       "    <tr>\n",
       "      <th>6</th>\n",
       "      <td>2021-09-07</td>\n",
       "      <td>3853.3862</td>\n",
       "      <td>6068.61</td>\n",
       "      <td>70039.15</td>\n",
       "      <td>-0.000386</td>\n",
       "    </tr>\n",
       "    <tr>\n",
       "      <th>7</th>\n",
       "      <td>2021-09-06</td>\n",
       "      <td>3796.0084</td>\n",
       "      <td>3380.65</td>\n",
       "      <td>69829.92</td>\n",
       "      <td>0.015115</td>\n",
       "    </tr>\n",
       "  </tbody>\n",
       "</table>\n",
       "</div>"
      ],
      "text/plain": [
       "           日期     上证A股指数  北向资金净流入流出      白酒指数   上证A股收益率\n",
       "3  2021-09-10  3881.1866    3618.93  70047.41  0.003310\n",
       "4  2021-09-09  3870.7072    2615.15  68498.47  0.002707\n",
       "5  2021-09-08  3851.8985   -1617.95  68536.78  0.004883\n",
       "6  2021-09-07  3853.3862    6068.61  70039.15 -0.000386\n",
       "7  2021-09-06  3796.0084    3380.65  69829.92  0.015115"
      ]
     },
     "execution_count": 121,
     "metadata": {},
     "output_type": "execute_result"
    }
   ],
   "source": [
    "df = df.dropna()#of course you have to process your data once again\n",
    "df.head()#let's see"
   ]
  },
  {
   "cell_type": "code",
   "execution_count": 122,
   "metadata": {},
   "outputs": [
    {
     "data": {
      "text/html": [
       "<div>\n",
       "<style scoped>\n",
       "    .dataframe tbody tr th:only-of-type {\n",
       "        vertical-align: middle;\n",
       "    }\n",
       "\n",
       "    .dataframe tbody tr th {\n",
       "        vertical-align: top;\n",
       "    }\n",
       "\n",
       "    .dataframe thead th {\n",
       "        text-align: right;\n",
       "    }\n",
       "</style>\n",
       "<table border=\"1\" class=\"dataframe\">\n",
       "  <thead>\n",
       "    <tr style=\"text-align: right;\">\n",
       "      <th></th>\n",
       "      <th>日期</th>\n",
       "      <th>上证A股指数</th>\n",
       "      <th>北向资金净流入流出</th>\n",
       "      <th>白酒指数</th>\n",
       "      <th>上证A股收益率</th>\n",
       "      <th>涨跌</th>\n",
       "    </tr>\n",
       "  </thead>\n",
       "  <tbody>\n",
       "    <tr>\n",
       "      <th>3</th>\n",
       "      <td>2021-09-10</td>\n",
       "      <td>3881.1866</td>\n",
       "      <td>3618.93</td>\n",
       "      <td>70047.41</td>\n",
       "      <td>0.003310</td>\n",
       "      <td>上涨</td>\n",
       "    </tr>\n",
       "    <tr>\n",
       "      <th>4</th>\n",
       "      <td>2021-09-09</td>\n",
       "      <td>3870.7072</td>\n",
       "      <td>2615.15</td>\n",
       "      <td>68498.47</td>\n",
       "      <td>0.002707</td>\n",
       "      <td>上涨</td>\n",
       "    </tr>\n",
       "    <tr>\n",
       "      <th>5</th>\n",
       "      <td>2021-09-08</td>\n",
       "      <td>3851.8985</td>\n",
       "      <td>-1617.95</td>\n",
       "      <td>68536.78</td>\n",
       "      <td>0.004883</td>\n",
       "      <td>上涨</td>\n",
       "    </tr>\n",
       "    <tr>\n",
       "      <th>6</th>\n",
       "      <td>2021-09-07</td>\n",
       "      <td>3853.3862</td>\n",
       "      <td>6068.61</td>\n",
       "      <td>70039.15</td>\n",
       "      <td>-0.000386</td>\n",
       "      <td>下跌</td>\n",
       "    </tr>\n",
       "    <tr>\n",
       "      <th>7</th>\n",
       "      <td>2021-09-06</td>\n",
       "      <td>3796.0084</td>\n",
       "      <td>3380.65</td>\n",
       "      <td>69829.92</td>\n",
       "      <td>0.015115</td>\n",
       "      <td>上涨</td>\n",
       "    </tr>\n",
       "  </tbody>\n",
       "</table>\n",
       "</div>"
      ],
      "text/plain": [
       "           日期     上证A股指数  北向资金净流入流出      白酒指数   上证A股收益率  涨跌\n",
       "3  2021-09-10  3881.1866    3618.93  70047.41  0.003310  上涨\n",
       "4  2021-09-09  3870.7072    2615.15  68498.47  0.002707  上涨\n",
       "5  2021-09-08  3851.8985   -1617.95  68536.78  0.004883  上涨\n",
       "6  2021-09-07  3853.3862    6068.61  70039.15 -0.000386  下跌\n",
       "7  2021-09-06  3796.0084    3380.65  69829.92  0.015115  上涨"
      ]
     },
     "execution_count": 122,
     "metadata": {},
     "output_type": "execute_result"
    }
   ],
   "source": [
    "'''\n",
    "the to-predict vatiables in bayes classification are usally discret variables, here we need to process our data\n",
    "'''\n",
    "df['涨跌'] = df['上证A股收益率'].apply(lambda x: '上涨' if x > 0 else '下跌')#here I use anonymous function.\n",
    "df.head()#show"
   ]
  },
  {
   "cell_type": "code",
   "execution_count": 123,
   "metadata": {},
   "outputs": [
    {
     "data": {
      "text/plain": [
       "231"
      ]
     },
     "execution_count": 123,
     "metadata": {},
     "output_type": "execute_result"
    }
   ],
   "source": [
    "len(df)#sample size"
   ]
  },
  {
   "cell_type": "code",
   "execution_count": 124,
   "metadata": {},
   "outputs": [],
   "source": [
    "train = df[:153]#here we split sample into train set and test set\n",
    "test = df[153:]#when we finish our program we cannot use it at once. It is vital to check out its performance."
   ]
  },
  {
   "cell_type": "code",
   "execution_count": 125,
   "metadata": {},
   "outputs": [
    {
     "data": {
      "text/plain": [
       "GaussianNB()"
      ]
     },
     "execution_count": 125,
     "metadata": {},
     "output_type": "execute_result"
    }
   ],
   "source": [
    "model = GaussianNB()#initial the gaussian naive bayes classifier\n",
    "model.fit(train[['北向资金净流入流出','白酒指数']],train['涨跌'])"
   ]
  },
  {
   "cell_type": "code",
   "execution_count": 126,
   "metadata": {},
   "outputs": [
    {
     "name": "stdout",
     "output_type": "stream",
     "text": [
      "['下跌' '下跌' '上涨' '下跌' '下跌' '下跌' '上涨' '上涨' '下跌' '下跌' '下跌' '下跌' '上涨' '上涨'\n",
      " '上涨' '下跌' '下跌' '上涨' '下跌' '上涨' '上涨' '上涨' '上涨' '上涨' '上涨' '上涨' '上涨' '上涨'\n",
      " '上涨' '上涨' '下跌' '上涨' '上涨' '上涨' '上涨' '上涨' '上涨' '上涨' '上涨' '上涨' '上涨' '上涨'\n",
      " '上涨' '上涨' '上涨' '上涨' '下跌' '上涨' '上涨' '上涨' '上涨' '上涨' '上涨' '上涨' '上涨' '上涨'\n",
      " '上涨' '上涨' '上涨' '上涨' '上涨' '上涨' '上涨' '上涨' '上涨' '上涨' '上涨' '上涨' '上涨' '上涨'\n",
      " '上涨' '上涨' '上涨' '上涨' '上涨' '上涨' '上涨' '上涨']\n"
     ]
    }
   ],
   "source": [
    "#now we test the classifier\n",
    "results = model.predict(test[['北向资金净流入流出','白酒指数']])\n",
    "print(results)"
   ]
  },
  {
   "cell_type": "code",
   "execution_count": 127,
   "metadata": {},
   "outputs": [
    {
     "name": "stdout",
     "output_type": "stream",
     "text": [
      "准确率有： 0.47435897435897434\n"
     ]
    }
   ],
   "source": [
    "yes = 0\n",
    "for i in range(len(test)):\n",
    "    if results[i] == test.iloc[i,5]:\n",
    "        yes += 1\n",
    "print('准确率有：',yes / len(test)) "
   ]
  },
  {
   "cell_type": "markdown",
   "metadata": {},
   "source": [
    "#### Below is design-by-yourself  program\n",
    "\n",
    "I strongly recommend you to program by yourself. In this way, you will be perfectly clear about what you are doing and you know the advantage and disadvantage of your alogrithm. It is helpful for your further imporvement."
   ]
  },
  {
   "cell_type": "code",
   "execution_count": 128,
   "metadata": {},
   "outputs": [
    {
     "data": {
      "text/html": [
       "<div>\n",
       "<style scoped>\n",
       "    .dataframe tbody tr th:only-of-type {\n",
       "        vertical-align: middle;\n",
       "    }\n",
       "\n",
       "    .dataframe tbody tr th {\n",
       "        vertical-align: top;\n",
       "    }\n",
       "\n",
       "    .dataframe thead th {\n",
       "        text-align: right;\n",
       "    }\n",
       "</style>\n",
       "<table border=\"1\" class=\"dataframe\">\n",
       "  <thead>\n",
       "    <tr style=\"text-align: right;\">\n",
       "      <th></th>\n",
       "      <th>日期</th>\n",
       "      <th>上证A股指数</th>\n",
       "      <th>北向资金净流入流出</th>\n",
       "      <th>白酒指数</th>\n",
       "      <th>上证A股收益率</th>\n",
       "      <th>涨跌</th>\n",
       "      <th>白酒指数涨跌</th>\n",
       "    </tr>\n",
       "  </thead>\n",
       "  <tbody>\n",
       "    <tr>\n",
       "      <th>4</th>\n",
       "      <td>2021-09-09</td>\n",
       "      <td>3870.7072</td>\n",
       "      <td>2615.15</td>\n",
       "      <td>68498.47</td>\n",
       "      <td>0.002707</td>\n",
       "      <td>上涨</td>\n",
       "      <td>0.022613</td>\n",
       "    </tr>\n",
       "    <tr>\n",
       "      <th>5</th>\n",
       "      <td>2021-09-08</td>\n",
       "      <td>3851.8985</td>\n",
       "      <td>-1617.95</td>\n",
       "      <td>68536.78</td>\n",
       "      <td>0.004883</td>\n",
       "      <td>上涨</td>\n",
       "      <td>-0.000559</td>\n",
       "    </tr>\n",
       "    <tr>\n",
       "      <th>6</th>\n",
       "      <td>2021-09-07</td>\n",
       "      <td>3853.3862</td>\n",
       "      <td>6068.61</td>\n",
       "      <td>70039.15</td>\n",
       "      <td>-0.000386</td>\n",
       "      <td>下跌</td>\n",
       "      <td>-0.021450</td>\n",
       "    </tr>\n",
       "    <tr>\n",
       "      <th>7</th>\n",
       "      <td>2021-09-06</td>\n",
       "      <td>3796.0084</td>\n",
       "      <td>3380.65</td>\n",
       "      <td>69829.92</td>\n",
       "      <td>0.015115</td>\n",
       "      <td>上涨</td>\n",
       "      <td>0.002996</td>\n",
       "    </tr>\n",
       "    <tr>\n",
       "      <th>10</th>\n",
       "      <td>2021-09-03</td>\n",
       "      <td>3753.9546</td>\n",
       "      <td>7068.05</td>\n",
       "      <td>68270.34</td>\n",
       "      <td>0.011203</td>\n",
       "      <td>上涨</td>\n",
       "      <td>0.022844</td>\n",
       "    </tr>\n",
       "  </tbody>\n",
       "</table>\n",
       "</div>"
      ],
      "text/plain": [
       "            日期     上证A股指数  北向资金净流入流出      白酒指数   上证A股收益率  涨跌    白酒指数涨跌\n",
       "4   2021-09-09  3870.7072    2615.15  68498.47  0.002707  上涨  0.022613\n",
       "5   2021-09-08  3851.8985   -1617.95  68536.78  0.004883  上涨 -0.000559\n",
       "6   2021-09-07  3853.3862    6068.61  70039.15 -0.000386  下跌 -0.021450\n",
       "7   2021-09-06  3796.0084    3380.65  69829.92  0.015115  上涨  0.002996\n",
       "10  2021-09-03  3753.9546    7068.05  68270.34  0.011203  上涨  0.022844"
      ]
     },
     "execution_count": 128,
     "metadata": {},
     "output_type": "execute_result"
    }
   ],
   "source": [
    "'''\n",
    "To continue, we need to count the exchange rate of the wine index, it's similar with the step we did before.\n",
    "'''\n",
    "df['白酒指数涨跌'] = (df['白酒指数'].shift() - df['白酒指数']) / df['白酒指数']#computing the change rate\n",
    "df = df.dropna()#of course you have to process your data once again\n",
    "df.head()"
   ]
  },
  {
   "cell_type": "code",
   "execution_count": 129,
   "metadata": {},
   "outputs": [],
   "source": [
    "train = df[:153]#here we split sample into train set and test set\n",
    "test = df[153:]"
   ]
  },
  {
   "cell_type": "code",
   "execution_count": 130,
   "metadata": {},
   "outputs": [],
   "source": [
    "import pandas as pd#Here I only use package 'Pandas' for your reference, and you can use other packages lilke numpy. It depends on you."
   ]
  },
  {
   "cell_type": "code",
   "execution_count": 131,
   "metadata": {},
   "outputs": [],
   "source": [
    "'''\n",
    "this function is for computing prior probability.\n",
    "'''\n",
    "def compute_prior(df):\n",
    "    prior_prob = {'rise':0,'fall':0,'total':0}\n",
    "    for trend in df['涨跌']:\n",
    "        if trend == '上涨':\n",
    "            prior_prob['rise'] += 1\n",
    "        else:\n",
    "            prior_prob['fall'] += 1\n",
    "    prior_prob['total'] = prior_prob['rise'] + prior_prob['fall']\n",
    "    return prior_prob"
   ]
  },
  {
   "cell_type": "code",
   "execution_count": 132,
   "metadata": {},
   "outputs": [
    {
     "data": {
      "text/plain": [
       "{'rise': 80, 'fall': 73, 'total': 153}"
      ]
     },
     "execution_count": 132,
     "metadata": {},
     "output_type": "execute_result"
    }
   ],
   "source": [
    "prior_probability = compute_prior(train)\n",
    "prior_probability"
   ]
  },
  {
   "cell_type": "code",
   "execution_count": 133,
   "metadata": {},
   "outputs": [],
   "source": [
    "'''\n",
    "this function is for computing likelihood\n",
    "'''\n",
    "def compute_likelihood(df):\n",
    "    likelihood = {'Northern_cap_rise':{'rise':0,'fall':0},'Northern_cap_fall':{'rise':0,'fall':0},'wine_rise':{'rise':0,'fall':0},'wine_fall':{'rise':0,'fall':0}}\n",
    "    for label in df[df['北向资金净流入流出'] > 0]['涨跌']:\n",
    "        if label == '上涨':\n",
    "            likelihood['Northern_cap_rise']['rise'] += 1\n",
    "        else:\n",
    "            likelihood['Northern_cap_rise']['fall'] += 1\n",
    "    for label in df[df['北向资金净流入流出'] < 0]['涨跌']:\n",
    "        if label == '上涨':\n",
    "            likelihood['Northern_cap_fall']['rise'] += 1\n",
    "        else:\n",
    "            likelihood['Northern_cap_fall']['fall'] += 1\n",
    "    for label in df[df['白酒指数涨跌'] > 0]['涨跌']:\n",
    "        if label == '上涨':\n",
    "            likelihood['wine_rise']['rise'] += 1\n",
    "        else:\n",
    "            likelihood['wine_rise']['fall'] += 1\n",
    "    for label in df[df['白酒指数涨跌'] < 0]['涨跌']:\n",
    "        if label == '上涨':\n",
    "            likelihood['wine_fall']['rise'] += 1\n",
    "        else:\n",
    "            likelihood['wine_fall']['fall'] += 1\n",
    "    return likelihood"
   ]
  },
  {
   "cell_type": "code",
   "execution_count": 134,
   "metadata": {},
   "outputs": [
    {
     "data": {
      "text/plain": [
       "{'Northern_cap_rise': {'rise': 52, 'fall': 44},\n",
       " 'Northern_cap_fall': {'rise': 28, 'fall': 29},\n",
       " 'wine_rise': {'rise': 56, 'fall': 22},\n",
       " 'wine_fall': {'rise': 24, 'fall': 51}}"
      ]
     },
     "execution_count": 134,
     "metadata": {},
     "output_type": "execute_result"
    }
   ],
   "source": [
    "likelihood_probability = compute_likelihood(train)\n",
    "likelihood_probability"
   ]
  },
  {
   "cell_type": "code",
   "execution_count": 146,
   "metadata": {},
   "outputs": [],
   "source": [
    "#this function is for prediction\n",
    "def to_predict(information,prior_probability,likelihood_probability):#infomation should be a dictionary like {'Northen_cap':xxx,'wine':xxx}\n",
    "    result = {'rise':prior_probability['rise'] / sum(prior_probability.values()),'fall':prior_probability['fall'] / sum(prior_probability.values())}\n",
    "    for key in result.keys():\n",
    "        if information['Northen_cap'] > 0:\n",
    "            result[key] = result[key] * likelihood_probability['Northern_cap_rise'][key] / prior_probability[key]\n",
    "        else:\n",
    "            result[key] = result[key] * likelihood_probability['Northern_cap_fall'][key] / prior_probability[key]\n",
    "        if information['wine'] > 0:\n",
    "            result[key] = result[key] * likelihood_probability['wine_rise'][key] / prior_probability[key]\n",
    "        else:\n",
    "            result[key] = result[key] * likelihood_probability['wine_fall'][key] / prior_probability[key]\n",
    "        result[key] /= sum(result.values())# in order to display probability\n",
    "    print(result)\n",
    "    return max(result,key=result.get)"
   ]
  },
  {
   "cell_type": "code",
   "execution_count": 147,
   "metadata": {},
   "outputs": [
    {
     "name": "stdout",
     "output_type": "stream",
     "text": [
      "{'rise': 0.33272394881170014, 'fall': 0.11523277849981678}\n"
     ]
    },
    {
     "data": {
      "text/plain": [
       "'rise'"
      ]
     },
     "execution_count": 147,
     "metadata": {},
     "output_type": "execute_result"
    }
   ],
   "source": [
    "to_predict({'Northen_cap':5600,'wine':0.45},prior_probability,likelihood_probability)"
   ]
  },
  {
   "cell_type": "code",
   "execution_count": 148,
   "metadata": {},
   "outputs": [
    {
     "name": "stdout",
     "output_type": "stream",
     "text": [
      "{'rise': 0.17607223476297967, 'fall': 0.3632771731027285}\n",
      "{'rise': 0.17607223476297967, 'fall': 0.3632771731027285}\n",
      "{'rise': 0.17607223476297967, 'fall': 0.3632771731027285}\n",
      "{'rise': 0.33272394881170014, 'fall': 0.11523277849981678}\n",
      "{'rise': 0.17607223476297967, 'fall': 0.3632771731027285}\n",
      "{'rise': 0.17607223476297967, 'fall': 0.3632771731027285}\n",
      "{'rise': 0.33272394881170014, 'fall': 0.11523277849981678}\n",
      "{'rise': 0.21166306695464362, 'fall': 0.11889388605757738}\n",
      "{'rise': 0.21166306695464362, 'fall': 0.11889388605757738}\n",
      "{'rise': 0.33272394881170014, 'fall': 0.11523277849981678}\n",
      "{'rise': 0.33272394881170014, 'fall': 0.11523277849981678}\n",
      "{'rise': 0.33272394881170014, 'fall': 0.11523277849981678}\n",
      "{'rise': 0.1031941031941032, 'fall': 0.39084075631643433}\n",
      "{'rise': 0.33272394881170014, 'fall': 0.11523277849981678}\n",
      "{'rise': 0.1031941031941032, 'fall': 0.39084075631643433}\n",
      "{'rise': 0.33272394881170014, 'fall': 0.11523277849981678}\n",
      "{'rise': 0.21166306695464362, 'fall': 0.11889388605757738}\n",
      "{'rise': 0.17607223476297967, 'fall': 0.3632771731027285}\n",
      "{'rise': 0.33272394881170014, 'fall': 0.11523277849981678}\n",
      "{'rise': 0.21166306695464362, 'fall': 0.11889388605757738}\n",
      "{'rise': 0.17607223476297967, 'fall': 0.3632771731027285}\n",
      "{'rise': 0.21166306695464362, 'fall': 0.11889388605757738}\n",
      "{'rise': 0.17607223476297967, 'fall': 0.3632771731027285}\n",
      "{'rise': 0.33272394881170014, 'fall': 0.11523277849981678}\n",
      "{'rise': 0.17607223476297967, 'fall': 0.3632771731027285}\n",
      "{'rise': 0.21166306695464362, 'fall': 0.11889388605757738}\n",
      "{'rise': 0.33272394881170014, 'fall': 0.11523277849981678}\n",
      "{'rise': 0.33272394881170014, 'fall': 0.11523277849981678}\n",
      "{'rise': 0.21166306695464362, 'fall': 0.11889388605757738}\n",
      "{'rise': 0.33272394881170014, 'fall': 0.11523277849981678}\n",
      "{'rise': 0.33272394881170014, 'fall': 0.11523277849981678}\n",
      "{'rise': 0.17607223476297967, 'fall': 0.3632771731027285}\n",
      "{'rise': 0.33272394881170014, 'fall': 0.11523277849981678}\n",
      "{'rise': 0.21166306695464362, 'fall': 0.11889388605757738}\n",
      "{'rise': 0.1031941031941032, 'fall': 0.39084075631643433}\n",
      "{'rise': 0.17607223476297967, 'fall': 0.3632771731027285}\n",
      "{'rise': 0.33272394881170014, 'fall': 0.11523277849981678}\n",
      "{'rise': 0.33272394881170014, 'fall': 0.11523277849981678}\n",
      "{'rise': 0.21166306695464362, 'fall': 0.11889388605757738}\n",
      "{'rise': 0.17607223476297967, 'fall': 0.3632771731027285}\n",
      "{'rise': 0.17607223476297967, 'fall': 0.3632771731027285}\n",
      "{'rise': 0.21166306695464362, 'fall': 0.11889388605757738}\n",
      "{'rise': 0.1031941031941032, 'fall': 0.39084075631643433}\n",
      "{'rise': 0.21166306695464362, 'fall': 0.11889388605757738}\n",
      "{'rise': 0.1031941031941032, 'fall': 0.39084075631643433}\n",
      "{'rise': 0.33272394881170014, 'fall': 0.11523277849981678}\n",
      "{'rise': 0.33272394881170014, 'fall': 0.11523277849981678}\n",
      "{'rise': 0.17607223476297967, 'fall': 0.3632771731027285}\n",
      "{'rise': 0.33272394881170014, 'fall': 0.11523277849981678}\n",
      "{'rise': 0.33272394881170014, 'fall': 0.11523277849981678}\n",
      "{'rise': 0.33272394881170014, 'fall': 0.11523277849981678}\n",
      "{'rise': 0.21166306695464362, 'fall': 0.11889388605757738}\n",
      "{'rise': 0.17607223476297967, 'fall': 0.3632771731027285}\n",
      "{'rise': 0.33272394881170014, 'fall': 0.11523277849981678}\n",
      "{'rise': 0.21166306695464362, 'fall': 0.11889388605757738}\n",
      "{'rise': 0.1031941031941032, 'fall': 0.39084075631643433}\n",
      "{'rise': 0.21166306695464362, 'fall': 0.11889388605757738}\n",
      "{'rise': 0.21166306695464362, 'fall': 0.11889388605757738}\n",
      "{'rise': 0.21166306695464362, 'fall': 0.11889388605757738}\n",
      "{'rise': 0.1031941031941032, 'fall': 0.39084075631643433}\n",
      "{'rise': 0.1031941031941032, 'fall': 0.39084075631643433}\n",
      "{'rise': 0.1031941031941032, 'fall': 0.39084075631643433}\n",
      "{'rise': 0.17607223476297967, 'fall': 0.3632771731027285}\n",
      "{'rise': 0.33272394881170014, 'fall': 0.11523277849981678}\n",
      "{'rise': 0.21166306695464362, 'fall': 0.11889388605757738}\n",
      "{'rise': 0.21166306695464362, 'fall': 0.11889388605757738}\n",
      "{'rise': 0.1031941031941032, 'fall': 0.39084075631643433}\n",
      "{'rise': 0.21166306695464362, 'fall': 0.11889388605757738}\n",
      "{'rise': 0.21166306695464362, 'fall': 0.11889388605757738}\n",
      "{'rise': 0.1031941031941032, 'fall': 0.39084075631643433}\n",
      "{'rise': 0.1031941031941032, 'fall': 0.39084075631643433}\n",
      "{'rise': 0.1031941031941032, 'fall': 0.39084075631643433}\n",
      "{'rise': 0.17607223476297967, 'fall': 0.3632771731027285}\n",
      "{'rise': 0.33272394881170014, 'fall': 0.11523277849981678}\n",
      "{'rise': 0.17607223476297967, 'fall': 0.3632771731027285}\n",
      "{'rise': 0.17607223476297967, 'fall': 0.3632771731027285}\n",
      "{'rise': 0.1031941031941032, 'fall': 0.39084075631643433}\n"
     ]
    }
   ],
   "source": [
    "our_result = []\n",
    "for index,row in test.iterrows():\n",
    "        information = {'Northen_cap':row[2],'wine':row[6]}\n",
    "        our_result.append(to_predict(information,prior_probability,likelihood_probability))"
   ]
  },
  {
   "cell_type": "code",
   "execution_count": 150,
   "metadata": {},
   "outputs": [
    {
     "data": {
      "text/plain": [
       "['fall',\n",
       " 'fall',\n",
       " 'fall',\n",
       " 'rise',\n",
       " 'fall',\n",
       " 'fall',\n",
       " 'rise',\n",
       " 'rise',\n",
       " 'rise',\n",
       " 'rise',\n",
       " 'rise',\n",
       " 'rise',\n",
       " 'fall',\n",
       " 'rise',\n",
       " 'fall',\n",
       " 'rise',\n",
       " 'rise',\n",
       " 'fall',\n",
       " 'rise',\n",
       " 'rise',\n",
       " 'fall',\n",
       " 'rise',\n",
       " 'fall',\n",
       " 'rise',\n",
       " 'fall',\n",
       " 'rise',\n",
       " 'rise',\n",
       " 'rise',\n",
       " 'rise',\n",
       " 'rise',\n",
       " 'rise',\n",
       " 'fall',\n",
       " 'rise',\n",
       " 'rise',\n",
       " 'fall',\n",
       " 'fall',\n",
       " 'rise',\n",
       " 'rise',\n",
       " 'rise',\n",
       " 'fall',\n",
       " 'fall',\n",
       " 'rise',\n",
       " 'fall',\n",
       " 'rise',\n",
       " 'fall',\n",
       " 'rise',\n",
       " 'rise',\n",
       " 'fall',\n",
       " 'rise',\n",
       " 'rise',\n",
       " 'rise',\n",
       " 'rise',\n",
       " 'fall',\n",
       " 'rise',\n",
       " 'rise',\n",
       " 'fall',\n",
       " 'rise',\n",
       " 'rise',\n",
       " 'rise',\n",
       " 'fall',\n",
       " 'fall',\n",
       " 'fall',\n",
       " 'fall',\n",
       " 'rise',\n",
       " 'rise',\n",
       " 'rise',\n",
       " 'fall',\n",
       " 'rise',\n",
       " 'rise',\n",
       " 'fall',\n",
       " 'fall',\n",
       " 'fall',\n",
       " 'fall',\n",
       " 'rise',\n",
       " 'fall',\n",
       " 'fall',\n",
       " 'fall']"
      ]
     },
     "execution_count": 150,
     "metadata": {},
     "output_type": "execute_result"
    }
   ],
   "source": [
    "our_result"
   ]
  },
  {
   "cell_type": "code",
   "execution_count": 151,
   "metadata": {},
   "outputs": [
    {
     "name": "stdout",
     "output_type": "stream",
     "text": [
      "准确率有： 0.7402597402597403\n"
     ]
    }
   ],
   "source": [
    "#let's test our performance\n",
    "yes = 0\n",
    "for i in range(len(test)):\n",
    "    if our_result[i] == 'rise' and test.iloc[i,5] == '上涨':\n",
    "        yes += 1\n",
    "    elif our_result[i] == 'fall' and test.iloc[i,5] == '下跌':\n",
    "        yes += 1\n",
    "print('准确率有：',yes / len(test)) "
   ]
  },
  {
   "cell_type": "markdown",
   "metadata": {},
   "source": [
    "thanks for you time"
   ]
  }
 ],
 "metadata": {
  "kernelspec": {
   "display_name": "Python 3",
   "language": "python",
   "name": "python3"
  },
  "language_info": {
   "codemirror_mode": {
    "name": "ipython",
    "version": 3
   },
   "file_extension": ".py",
   "mimetype": "text/x-python",
   "name": "python",
   "nbconvert_exporter": "python",
   "pygments_lexer": "ipython3",
   "version": "3.8.3"
  }
 },
 "nbformat": 4,
 "nbformat_minor": 4
}
